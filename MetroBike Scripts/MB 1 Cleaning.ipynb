{
 "cells": [
  {
   "cell_type": "markdown",
   "id": "33bb794f",
   "metadata": {},
   "source": [
    "# MetroBike Dataset Joining and Cleaning"
   ]
  },
  {
   "cell_type": "code",
   "execution_count": 1,
   "id": "6ced7793",
   "metadata": {},
   "outputs": [],
   "source": [
    "# import libraries\n",
    "import pandas as pd\n",
    "import os\n",
    "import numpy as np"
   ]
  },
  {
   "cell_type": "code",
   "execution_count": 2,
   "id": "995b1647",
   "metadata": {},
   "outputs": [],
   "source": [
    "# import MetroBike trip data\n",
    "trip = pd.read_csv(r'C:\\Users\\kacie\\Box\\Personal\\CareerFoundry\\Data Immersion\\Achievement 6\\Austin Bikes\\Austin_MetroBike_Trips_20240402.csv', dtype={9: str})"
   ]
  },
  {
   "cell_type": "code",
   "execution_count": 3,
   "id": "1144809a",
   "metadata": {},
   "outputs": [],
   "source": [
    "# import MetroBike kiosk data\n",
    "kiosk = pd.read_csv(r'C:\\Users\\kacie\\Box\\Personal\\CareerFoundry\\Data Immersion\\Achievement 6\\Austin Bikes\\Austin_MetroBike_Kiosk_Locations.csv')"
   ]
  },
  {
   "cell_type": "markdown",
   "id": "469ad567",
   "metadata": {},
   "source": [
    "## Clean MetroBike trip data"
   ]
  },
  {
   "cell_type": "code",
   "execution_count": 5,
   "id": "ed66ee8d",
   "metadata": {},
   "outputs": [],
   "source": [
    "# Find stats for trip data\n",
    "trip.describe().to_clipboard()"
   ]
  },
  {
   "cell_type": "code",
   "execution_count": 8,
   "id": "bbd02dd6",
   "metadata": {},
   "outputs": [],
   "source": [
    "# find missing values in trip data\n",
    "trip.isnull().sum().to_clipboard()"
   ]
  },
  {
   "cell_type": "code",
   "execution_count": 6,
   "id": "c5a275e5",
   "metadata": {},
   "outputs": [],
   "source": [
    "# explore null pass values\n",
    "trip_pass = trip[trip['Membership or Pass Type'].isnull() == True]\n",
    "trip_pass.to_clipboard()"
   ]
  },
  {
   "cell_type": "code",
   "execution_count": 7,
   "id": "617da97f",
   "metadata": {},
   "outputs": [],
   "source": [
    "# explore null checkout kiosk values\n",
    "trip_checkout = trip[trip['Checkout Kiosk ID'].isnull() == True]\n",
    "trip_checkout.to_clipboard()"
   ]
  },
  {
   "cell_type": "code",
   "execution_count": 8,
   "id": "2d3f6978",
   "metadata": {},
   "outputs": [],
   "source": [
    "# explore null checkout kiosk values\n",
    "trip_return = trip[trip['Return Kiosk ID'].isnull() == True]\n",
    "trip_return.to_clipboard()"
   ]
  },
  {
   "cell_type": "markdown",
   "id": "ad470239",
   "metadata": {},
   "source": [
    "#### I attempted below to use the kiosk name to fill in the kiosk id values but there is no reliable way to do it"
   ]
  },
  {
   "cell_type": "code",
   "execution_count": 39,
   "id": "6c501e13",
   "metadata": {},
   "outputs": [],
   "source": [
    "# create a unique key for kiosk id and locations using checkout kiosk info\n",
    "checkout_kiosk = trip[['Checkout Kiosk ID', 'Checkout Kiosk']].drop_duplicates()\n",
    "checkout_kiosk.to_clipboard()"
   ]
  },
  {
   "cell_type": "code",
   "execution_count": 51,
   "id": "105a71b6",
   "metadata": {},
   "outputs": [],
   "source": [
    "# remove missing values from kiosk unique key table\n",
    "checkout_kiosk_clean = checkout_kiosk.dropna()\n",
    "checkout_kiosk_clean.to_clipboard()"
   ]
  },
  {
   "cell_type": "code",
   "execution_count": 53,
   "id": "f1286f05",
   "metadata": {},
   "outputs": [],
   "source": [
    "# create a unique key for kiosk id and locations using return kiosk info\n",
    "return_kiosk = trip[['Return Kiosk ID', 'Return Kiosk']].drop_duplicates()\n",
    "return_kiosk_clean = return_kiosk.dropna()\n",
    "return_kiosk_clean.to_clipboard()"
   ]
  },
  {
   "cell_type": "code",
   "execution_count": 9,
   "id": "e75d5ffd",
   "metadata": {},
   "outputs": [],
   "source": [
    "# update the kiosk id values where possible\n",
    "trip.loc[trip['Checkout Kiosk'] == 'Dean Keeton & Speedway ', 'Checkout Kiosk ID'] = '3794'\n",
    "trip.loc[trip['Return Kiosk'] == 'Dean Keeton & Speedway ', 'Return Kiosk ID'] = '3794'\n",
    "trip.loc[trip['Return Kiosk'] == 'Dean Keeton/Speedway', 'Return Kiosk ID'] = '3794'\n",
    "trip.loc[trip['Return Kiosk'] == '21st/Speedway @ PCL', 'Return Kiosk ID'] = '3798'\n"
   ]
  },
  {
   "cell_type": "code",
   "execution_count": 10,
   "id": "e2d97674",
   "metadata": {},
   "outputs": [
    {
     "data": {
      "text/plain": [
       "(2118177, 14)"
      ]
     },
     "execution_count": 10,
     "metadata": {},
     "output_type": "execute_result"
    }
   ],
   "source": [
    "# drop all entries with missing values from trip table\n",
    "trip_clean = trip.dropna().copy()\n",
    "trip_clean.shape"
   ]
  },
  {
   "cell_type": "code",
   "execution_count": 104,
   "id": "27dd13f5",
   "metadata": {},
   "outputs": [
    {
     "name": "stdout",
     "output_type": "stream",
     "text": [
      "Empty DataFrame\n",
      "Columns: [Trip ID, Membership or Pass Type, Bicycle ID, Bike Type, Checkout Datetime, Checkout Date, Checkout Time, Checkout Kiosk ID, Checkout Kiosk, Return Kiosk ID, Return Kiosk, Trip Duration Minutes, Month, Year]\n",
      "Index: []\n"
     ]
    }
   ],
   "source": [
    "# check for duplicates\n",
    "trip_dup = trip_clean[trip_clean.duplicated()]\n",
    "\n",
    "print(trip_dup)"
   ]
  },
  {
   "cell_type": "code",
   "execution_count": 105,
   "id": "b4c8bcdb",
   "metadata": {},
   "outputs": [
    {
     "data": {
      "text/plain": [
       "Trip ID                     int64\n",
       "Membership or Pass Type    object\n",
       "Bicycle ID                 object\n",
       "Bike Type                  object\n",
       "Checkout Datetime          object\n",
       "Checkout Date              object\n",
       "Checkout Time              object\n",
       "Checkout Kiosk ID          object\n",
       "Checkout Kiosk             object\n",
       "Return Kiosk ID            object\n",
       "Return Kiosk               object\n",
       "Trip Duration Minutes       int64\n",
       "Month                       int64\n",
       "Year                        int64\n",
       "dtype: object"
      ]
     },
     "execution_count": 105,
     "metadata": {},
     "output_type": "execute_result"
    }
   ],
   "source": [
    "# check data types for trips table\n",
    "trip_clean.dtypes"
   ]
  },
  {
   "cell_type": "code",
   "execution_count": 4,
   "id": "4721db93",
   "metadata": {},
   "outputs": [
    {
     "ename": "NameError",
     "evalue": "name 'trip_clean' is not defined",
     "output_type": "error",
     "traceback": [
      "\u001b[1;31m---------------------------------------------------------------------------\u001b[0m",
      "\u001b[1;31mNameError\u001b[0m                                 Traceback (most recent call last)",
      "Cell \u001b[1;32mIn[4], line 2\u001b[0m\n\u001b[0;32m      1\u001b[0m \u001b[38;5;66;03m# change dtypes for date/time variables\u001b[39;00m\n\u001b[1;32m----> 2\u001b[0m trip_clean[\u001b[38;5;124m'\u001b[39m\u001b[38;5;124mCheckout Datetime\u001b[39m\u001b[38;5;124m'\u001b[39m] \u001b[38;5;241m=\u001b[39m pd\u001b[38;5;241m.\u001b[39mto_datetime(trip_clean[\u001b[38;5;124m'\u001b[39m\u001b[38;5;124mCheckout Datetime\u001b[39m\u001b[38;5;124m'\u001b[39m])\n\u001b[0;32m      3\u001b[0m trip_clean[\u001b[38;5;124m'\u001b[39m\u001b[38;5;124mCheckout Date\u001b[39m\u001b[38;5;124m'\u001b[39m] \u001b[38;5;241m=\u001b[39m pd\u001b[38;5;241m.\u001b[39mto_datetime(trip_clean[\u001b[38;5;124m'\u001b[39m\u001b[38;5;124mCheckout Date\u001b[39m\u001b[38;5;124m'\u001b[39m])\n\u001b[0;32m      4\u001b[0m trip_clean[\u001b[38;5;124m'\u001b[39m\u001b[38;5;124mCheckout Time\u001b[39m\u001b[38;5;124m'\u001b[39m] \u001b[38;5;241m=\u001b[39m pd\u001b[38;5;241m.\u001b[39mto_datetime(trip_clean[\u001b[38;5;124m'\u001b[39m\u001b[38;5;124mCheckout Time\u001b[39m\u001b[38;5;124m'\u001b[39m], \u001b[38;5;28mformat\u001b[39m \u001b[38;5;241m=\u001b[39m \u001b[38;5;124m'\u001b[39m\u001b[38;5;124m%\u001b[39m\u001b[38;5;124mH:\u001b[39m\u001b[38;5;124m%\u001b[39m\u001b[38;5;124mM:\u001b[39m\u001b[38;5;124m%\u001b[39m\u001b[38;5;124mS\u001b[39m\u001b[38;5;124m'\u001b[39m)\u001b[38;5;241m.\u001b[39mdt\u001b[38;5;241m.\u001b[39mtime\n",
      "\u001b[1;31mNameError\u001b[0m: name 'trip_clean' is not defined"
     ]
    }
   ],
   "source": [
    "# change dtypes for date/time variables\n",
    "trip_clean['Checkout Datetime'] = pd.to_datetime(trip_clean['Checkout Datetime'])\n",
    "trip_clean['Checkout Date'] = pd.to_datetime(trip_clean['Checkout Date'])\n",
    "trip_clean['Checkout Time'] = pd.to_datetime(trip_clean['Checkout Time'], format = '%H:%M:%S').dt.time\n",
    "trip_clean.dtypes.to_clipboard()"
   ]
  },
  {
   "cell_type": "code",
   "execution_count": 10,
   "id": "742a8f1c",
   "metadata": {},
   "outputs": [],
   "source": [
    "# import visualization libraries\n",
    "import matplotlib.pyplot as plt\n",
    "import seaborn as sns\n",
    "import scipy"
   ]
  },
  {
   "cell_type": "code",
   "execution_count": 122,
   "id": "6f7f92fe",
   "metadata": {
    "scrolled": true
   },
   "outputs": [
    {
     "data": {
      "image/png": "[encoded data removed]",
      "text/plain": [
       "<Figure size 640x480 with 1 Axes>"
      ]
     },
     "metadata": {},
     "output_type": "display_data"
    }
   ],
   "source": [
    "# check for duration outliers using scatterplot\n",
    "length_scatter = sns.scatterplot(x = 'Trip Duration Minutes', y = 'Trip Duration Minutes', data = trip_clean)"
   ]
  },
  {
   "cell_type": "code",
   "execution_count": 125,
   "id": "027579b6",
   "metadata": {},
   "outputs": [
    {
     "data": {
      "image/png": "[encoded data removed]",
      "text/plain": [
       "<Figure size 640x480 with 1 Axes>"
      ]
     },
     "metadata": {},
     "output_type": "display_data"
    }
   ],
   "source": [
    "# check length distribution with scatterplot\n",
    "length_hist = trip_clean['Trip Duration Minutes'].plot.hist(bins = 100)"
   ]
  },
  {
   "cell_type": "code",
   "execution_count": 14,
   "id": "3c1589f1",
   "metadata": {},
   "outputs": [
    {
     "data": {
      "text/plain": [
       "(2118177, 14)"
      ]
     },
     "execution_count": 14,
     "metadata": {},
     "output_type": "execute_result"
    }
   ],
   "source": [
    "trip_clean.shape"
   ]
  },
  {
   "cell_type": "code",
   "execution_count": 17,
   "id": "738ab220",
   "metadata": {},
   "outputs": [
    {
     "data": {
      "text/plain": [
       "(879, 14)"
      ]
     },
     "execution_count": 17,
     "metadata": {},
     "output_type": "execute_result"
    }
   ],
   "source": [
    "# find number of entries with durations > 1500  \n",
    "trip_over_1500 = trip_clean.loc[trip_clean['Trip Duration Minutes'] > 1500]\n",
    "trip_over_1500.shape"
   ]
  },
  {
   "cell_type": "code",
   "execution_count": 19,
   "id": "0449f124",
   "metadata": {},
   "outputs": [
    {
     "data": {
      "text/plain": [
       "(3539, 14)"
      ]
     },
     "execution_count": 19,
     "metadata": {},
     "output_type": "execute_result"
    }
   ],
   "source": [
    "# find number of entries with durations > 1000  \n",
    "trip_over_1000 = trip_clean.loc[trip_clean['Trip Duration Minutes'] > 1000]\n",
    "trip_over_1000.shape"
   ]
  },
  {
   "cell_type": "code",
   "execution_count": 33,
   "id": "8ef8e975",
   "metadata": {},
   "outputs": [],
   "source": [
    "# find trip table statistics\n",
    "trip_clean.describe().to_clipboard()"
   ]
  },
  {
   "cell_type": "code",
   "execution_count": 31,
   "id": "7664b452",
   "metadata": {
    "scrolled": true
   },
   "outputs": [
    {
     "data": {
      "text/html": [
       "<div>\n",
       "<style scoped>\n",
       "    .dataframe tbody tr th:only-of-type {\n",
       "        vertical-align: middle;\n",
       "    }\n",
       "\n",
       "    .dataframe tbody tr th {\n",
       "        vertical-align: top;\n",
       "    }\n",
       "\n",
       "    .dataframe thead th {\n",
       "        text-align: right;\n",
       "    }\n",
       "</style>\n",
       "<table border=\"1\" class=\"dataframe\">\n",
       "  <thead>\n",
       "    <tr style=\"text-align: right;\">\n",
       "      <th></th>\n",
       "      <th>Trip ID</th>\n",
       "      <th>Membership or Pass Type</th>\n",
       "      <th>Bicycle ID</th>\n",
       "      <th>Bike Type</th>\n",
       "      <th>Checkout Datetime</th>\n",
       "      <th>Checkout Date</th>\n",
       "      <th>Checkout Time</th>\n",
       "      <th>Checkout Kiosk ID</th>\n",
       "      <th>Checkout Kiosk</th>\n",
       "      <th>Return Kiosk ID</th>\n",
       "      <th>Return Kiosk</th>\n",
       "      <th>Trip Duration Minutes</th>\n",
       "      <th>Month</th>\n",
       "      <th>Year</th>\n",
       "    </tr>\n",
       "  </thead>\n",
       "  <tbody>\n",
       "    <tr>\n",
       "      <th>0</th>\n",
       "      <td>16459203</td>\n",
       "      <td>Local365</td>\n",
       "      <td>37</td>\n",
       "      <td>classic</td>\n",
       "      <td>2017-12-01 09:51:41</td>\n",
       "      <td>2017-12-01</td>\n",
       "      <td>09:51:41</td>\n",
       "      <td>2496.0</td>\n",
       "      <td>8th &amp; Congress</td>\n",
       "      <td>2495</td>\n",
       "      <td>4th &amp; Congress</td>\n",
       "      <td>3</td>\n",
       "      <td>12</td>\n",
       "      <td>2017</td>\n",
       "    </tr>\n",
       "    <tr>\n",
       "      <th>1</th>\n",
       "      <td>4106422</td>\n",
       "      <td>Local365</td>\n",
       "      <td>971</td>\n",
       "      <td>classic</td>\n",
       "      <td>2015-03-13 16:20:24</td>\n",
       "      <td>2015-03-13</td>\n",
       "      <td>16:20:24</td>\n",
       "      <td>2495.0</td>\n",
       "      <td>4th/Congress</td>\n",
       "      <td>2495</td>\n",
       "      <td>4th/Congress</td>\n",
       "      <td>14</td>\n",
       "      <td>3</td>\n",
       "      <td>2015</td>\n",
       "    </tr>\n",
       "    <tr>\n",
       "      <th>2</th>\n",
       "      <td>3454605</td>\n",
       "      <td>Local365</td>\n",
       "      <td>29</td>\n",
       "      <td>classic</td>\n",
       "      <td>2014-10-14 08:33:54</td>\n",
       "      <td>2014-10-14</td>\n",
       "      <td>08:33:54</td>\n",
       "      <td>2712.0</td>\n",
       "      <td>Toomey Rd @ South Lamar</td>\n",
       "      <td>2575</td>\n",
       "      <td>Riverside/South Lamar</td>\n",
       "      <td>22</td>\n",
       "      <td>10</td>\n",
       "      <td>2014</td>\n",
       "    </tr>\n",
       "    <tr>\n",
       "      <th>3</th>\n",
       "      <td>3454592</td>\n",
       "      <td>Local365</td>\n",
       "      <td>646</td>\n",
       "      <td>classic</td>\n",
       "      <td>2014-10-14 08:32:03</td>\n",
       "      <td>2014-10-14</td>\n",
       "      <td>08:32:03</td>\n",
       "      <td>2552.0</td>\n",
       "      <td>3rd/West</td>\n",
       "      <td>2496</td>\n",
       "      <td>8th/Congress</td>\n",
       "      <td>29</td>\n",
       "      <td>10</td>\n",
       "      <td>2014</td>\n",
       "    </tr>\n",
       "    <tr>\n",
       "      <th>4</th>\n",
       "      <td>4106421</td>\n",
       "      <td>24 Hour Walk Up Pass</td>\n",
       "      <td>124</td>\n",
       "      <td>classic</td>\n",
       "      <td>2015-03-13 16:20:15</td>\n",
       "      <td>2015-03-13</td>\n",
       "      <td>16:20:15</td>\n",
       "      <td>2498.0</td>\n",
       "      <td>Dean Keeton/Speedway</td>\n",
       "      <td>2549</td>\n",
       "      <td>South 1st/Riverside @ Long Center</td>\n",
       "      <td>10</td>\n",
       "      <td>3</td>\n",
       "      <td>2015</td>\n",
       "    </tr>\n",
       "  </tbody>\n",
       "</table>\n",
       "</div>"
      ],
      "text/plain": [
       "    Trip ID Membership or Pass Type Bicycle ID Bike Type   Checkout Datetime  \\\n",
       "0  16459203                Local365         37   classic 2017-12-01 09:51:41   \n",
       "1   4106422                Local365        971   classic 2015-03-13 16:20:24   \n",
       "2   3454605                Local365         29   classic 2014-10-14 08:33:54   \n",
       "3   3454592                Local365        646   classic 2014-10-14 08:32:03   \n",
       "4   4106421    24 Hour Walk Up Pass        124   classic 2015-03-13 16:20:15   \n",
       "\n",
       "  Checkout Date Checkout Time Checkout Kiosk ID           Checkout Kiosk  \\\n",
       "0    2017-12-01      09:51:41            2496.0           8th & Congress   \n",
       "1    2015-03-13      16:20:24            2495.0             4th/Congress   \n",
       "2    2014-10-14      08:33:54            2712.0  Toomey Rd @ South Lamar   \n",
       "3    2014-10-14      08:32:03            2552.0                 3rd/West   \n",
       "4    2015-03-13      16:20:15            2498.0     Dean Keeton/Speedway   \n",
       "\n",
       "  Return Kiosk ID                       Return Kiosk  Trip Duration Minutes  \\\n",
       "0            2495                     4th & Congress                      3   \n",
       "1            2495                       4th/Congress                     14   \n",
       "2            2575              Riverside/South Lamar                     22   \n",
       "3            2496                       8th/Congress                     29   \n",
       "4            2549  South 1st/Riverside @ Long Center                     10   \n",
       "\n",
       "   Month  Year  \n",
       "0     12  2017  \n",
       "1      3  2015  \n",
       "2     10  2014  \n",
       "3     10  2014  \n",
       "4      3  2015  "
      ]
     },
     "execution_count": 31,
     "metadata": {},
     "output_type": "execute_result"
    }
   ],
   "source": [
    "# check trip table\n",
    "trip_clean.head()"
   ]
  },
  {
   "cell_type": "code",
   "execution_count": 35,
   "id": "92460d5c",
   "metadata": {},
   "outputs": [],
   "source": [
    "# Export clean MetroBike trip data\n",
    "trip_clean.to_csv(r'C:\\Users\\kacie\\Box\\Personal\\CareerFoundry\\Data Immersion\\Achievement 6\\Austin Bikes\\MetroBikes Trip Clean.csv')"
   ]
  },
  {
   "cell_type": "markdown",
   "id": "e55a2f4d",
   "metadata": {},
   "source": [
    "## Clean MetroBike Kiosk data"
   ]
  },
  {
   "cell_type": "code",
   "execution_count": 47,
   "id": "ed92c262",
   "metadata": {},
   "outputs": [
    {
     "data": {
      "text/plain": [
       "(102, 16)"
      ]
     },
     "execution_count": 47,
     "metadata": {},
     "output_type": "execute_result"
    }
   ],
   "source": [
    "# find kiosk table stats\n",
    "kiosk.describe().to_clipboard()\n",
    "kiosk.shape"
   ]
  },
  {
   "cell_type": "code",
   "execution_count": null,
   "id": "14e64d13",
   "metadata": {},
   "outputs": [],
   "source": [
    "# find kiosk table dtypes\n",
    "kiosk.dtypes.to_clipboard()"
   ]
  },
  {
   "cell_type": "code",
   "execution_count": 185,
   "id": "288ed4f2",
   "metadata": {},
   "outputs": [],
   "source": [
    "# rename duplicate kiosk id 2497 to 2498\n",
    "kiosk.loc[(kiosk['Kiosk Name'] == '4th/Sabine'), 'Kiosk ID'] = 2498\n",
    "kiosk['Kiosk ID'].value_counts().to_clipboard()"
   ]
  },
  {
   "cell_type": "code",
   "execution_count": 168,
   "id": "16aa4ddf",
   "metadata": {},
   "outputs": [],
   "source": [
    "# create small kiosk table and change dtypes where appropriate\n",
    "kiosk_small = kiosk[['Kiosk ID', 'Kiosk Status', 'Location', 'City Asset Number', 'Number of Docks', 'Council District']].copy()\n",
    "kiosk_small['Kiosk Status'] = kiosk_small['Kiosk Status'].astype('category')\n",
    "kiosk_small['Number of Docks'] = kiosk_small['Number of Docks'].astype('Int64')\n",
    "kiosk_small['City Asset Number'] = kiosk_small['City Asset Number'].astype('Int64')\n",
    "kiosk_small.dtypes.to_clipboard()"
   ]
  },
  {
   "cell_type": "code",
   "execution_count": 169,
   "id": "6dda3d5d",
   "metadata": {},
   "outputs": [
    {
     "data": {
      "text/plain": [
       "(102, 6)"
      ]
     },
     "execution_count": 169,
     "metadata": {},
     "output_type": "execute_result"
    }
   ],
   "source": [
    "kiosk_small.shape"
   ]
  },
  {
   "cell_type": "code",
   "execution_count": 171,
   "id": "db487639",
   "metadata": {},
   "outputs": [
    {
     "data": {
      "text/plain": [
       "Kiosk ID              0\n",
       "Kiosk Status          0\n",
       "Location              0\n",
       "City Asset Number    24\n",
       "Number of Docks      19\n",
       "Council District      0\n",
       "dtype: int64"
      ]
     },
     "execution_count": 171,
     "metadata": {},
     "output_type": "execute_result"
    }
   ],
   "source": [
    "# check for missing values\n",
    "kiosk_small.isnull().sum()"
   ]
  },
  {
   "cell_type": "code",
   "execution_count": 63,
   "id": "a99c4c07",
   "metadata": {},
   "outputs": [],
   "source": [
    "# explore null City Asset Number \n",
    "kiosk_CAN_Null = kiosk_small[kiosk_small['City Asset Number'].isnull() == True]\n",
    "kiosk_CAN_Null.to_clipboard()"
   ]
  },
  {
   "cell_type": "code",
   "execution_count": 64,
   "id": "24c4b73e",
   "metadata": {},
   "outputs": [],
   "source": [
    "# explore null Number of Docks\n",
    "kiosk_NOD_Null = kiosk_small[kiosk_small['Number of Docks'].isnull() == True]\n",
    "kiosk_NOD_Null.to_clipboard()"
   ]
  },
  {
   "cell_type": "code",
   "execution_count": 65,
   "id": "85b7a0a5",
   "metadata": {},
   "outputs": [
    {
     "name": "stdout",
     "output_type": "stream",
     "text": [
      "Empty DataFrame\n",
      "Columns: [Kiosk ID, Kiosk Status, Location, City Asset Number, Number of Docks, Council District]\n",
      "Index: []\n"
     ]
    }
   ],
   "source": [
    "# check for duplicates\n",
    "kiosk_dup = kiosk_small[kiosk_small.duplicated()]\n",
    "print(kiosk_dup)"
   ]
  },
  {
   "cell_type": "code",
   "execution_count": 66,
   "id": "c7dc3ecf",
   "metadata": {},
   "outputs": [],
   "source": [
    "# find kiosk table statistics\n",
    "kiosk_small.describe().to_clipboard()"
   ]
  },
  {
   "cell_type": "code",
   "execution_count": 172,
   "id": "b03957b7",
   "metadata": {},
   "outputs": [],
   "source": [
    "# export kiosk table\n",
    "kiosk_small.to_csv(r'C:\\Users\\kacie\\Box\\Personal\\CareerFoundry\\Data Immersion\\Achievement 6\\Austin Bikes\\MetroBikes Kiosk Clean.csv')"
   ]
  },
  {
   "cell_type": "markdown",
   "id": "b28031c4",
   "metadata": {},
   "source": [
    "## Join and Clean Trip and Kiosk tables"
   ]
  },
  {
   "cell_type": "code",
   "execution_count": 69,
   "id": "bed9cdd3",
   "metadata": {},
   "outputs": [
    {
     "data": {
      "text/plain": [
       "['Trip ID',\n",
       " 'Membership or Pass Type',\n",
       " 'Bicycle ID',\n",
       " 'Bike Type',\n",
       " 'Checkout Datetime',\n",
       " 'Checkout Date',\n",
       " 'Checkout Time',\n",
       " 'Checkout Kiosk ID',\n",
       " 'Checkout Kiosk',\n",
       " 'Return Kiosk ID',\n",
       " 'Return Kiosk',\n",
       " 'Trip Duration Minutes',\n",
       " 'Month',\n",
       " 'Year']"
      ]
     },
     "execution_count": 69,
     "metadata": {},
     "output_type": "execute_result"
    }
   ],
   "source": [
    "# check column names for trip table\n",
    "trip_clean.columns.to_list()"
   ]
  },
  {
   "cell_type": "code",
   "execution_count": 70,
   "id": "cb5f6cde",
   "metadata": {},
   "outputs": [
    {
     "data": {
      "text/plain": [
       "['Kiosk ID',\n",
       " 'Kiosk Status',\n",
       " 'Location',\n",
       " 'City Asset Number',\n",
       " 'Number of Docks',\n",
       " 'Council District']"
      ]
     },
     "execution_count": 70,
     "metadata": {},
     "output_type": "execute_result"
    }
   ],
   "source": [
    "# check column names for kiosk table\n",
    "kiosk_small.columns.to_list()"
   ]
  },
  {
   "cell_type": "code",
   "execution_count": 114,
   "id": "6fe52a83",
   "metadata": {},
   "outputs": [],
   "source": [
    "# Return Kiosk ID has a non-numerical entry\n",
    "trip_clean['Return Kiosk ID'].value_counts().to_clipboard()"
   ]
  },
  {
   "cell_type": "code",
   "execution_count": 117,
   "id": "839520f2",
   "metadata": {},
   "outputs": [],
   "source": [
    "# find all entries with Return Kiosk ID 'Event'\n",
    "trip_clean[trip_clean['Return Kiosk ID'] == 'Event'].to_clipboard()"
   ]
  },
  {
   "cell_type": "code",
   "execution_count": 120,
   "id": "a61cb456",
   "metadata": {},
   "outputs": [],
   "source": [
    "# replace 'Event' with '50' in Return Kiosk ID \n",
    "trip_clean['Return Kiosk ID'] = trip_clean['Return Kiosk ID'].replace('Event', 50)\n",
    "trip_clean['Return Kiosk ID'].value_counts().to_clipboard()"
   ]
  },
  {
   "cell_type": "code",
   "execution_count": 173,
   "id": "0c87c2a2",
   "metadata": {},
   "outputs": [
    {
     "data": {
      "text/plain": [
       "Kiosk ID                int32\n",
       "Kiosk Status         category\n",
       "Location               object\n",
       "City Asset Number       Int64\n",
       "Number of Docks         Int64\n",
       "Council District        int64\n",
       "dtype: object"
      ]
     },
     "execution_count": 173,
     "metadata": {},
     "output_type": "execute_result"
    }
   ],
   "source": [
    "# change dtype of Kiosk ID columns to match\n",
    "kiosk_small['Kiosk ID'] = kiosk_small['Kiosk ID'].astype('int')\n",
    "trip_clean['Checkout Kiosk ID'] = trip_clean['Checkout Kiosk ID'].astype('float').astype('int')\n",
    "trip_clean['Return Kiosk ID'] = trip_clean['Return Kiosk ID'].astype('int')\n",
    "kiosk_small.dtypes"
   ]
  },
  {
   "cell_type": "code",
   "execution_count": 174,
   "id": "730ace16",
   "metadata": {},
   "outputs": [],
   "source": [
    "# make new kiosk tables for checkout and return\n",
    "kiosk_checkout = kiosk_small.copy()\n",
    "kiosk_checkout.columns = ['Checkout ' + col for col in kiosk_checkout.columns]\n",
    "\n",
    "kiosk_return = kiosk_small.copy()\n",
    "kiosk_return.columns =  ['Return ' + col for col in kiosk_return.columns]"
   ]
  },
  {
   "cell_type": "code",
   "execution_count": 175,
   "id": "df41d771",
   "metadata": {},
   "outputs": [],
   "source": [
    "# merge trip table with checkout kiosk info\n",
    "checkout_merge = pd.merge(trip_clean, kiosk_checkout, on = 'Checkout Kiosk ID', how = 'left')\n",
    "full_merge = pd.merge(checkout_merge, kiosk_return, on = 'Return Kiosk ID', how = 'left')"
   ]
  },
  {
   "cell_type": "code",
   "execution_count": 176,
   "id": "d161b974",
   "metadata": {},
   "outputs": [],
   "source": [
    "# reorder new merged table columns\n",
    "full_merge = full_merge[['Trip ID', 'Membership or Pass Type', 'Bicycle ID', 'Bike Type',\n",
    "       'Checkout Datetime', 'Checkout Date', 'Checkout Time',\n",
    "       'Checkout Kiosk ID', 'Checkout Kiosk', 'Checkout Kiosk Status', 'Checkout Location',\n",
    "       'Checkout City Asset Number', 'Checkout Number of Docks',\n",
    "       'Checkout Council District', 'Trip Duration Minutes', 'Month', 'Year','Return Kiosk ID',\n",
    "       'Return Kiosk', \n",
    "        'Return Kiosk Status', 'Return Location',\n",
    "       'Return City Asset Number', 'Return Number of Docks',\n",
    "       'Return Council District']]"
   ]
  },
  {
   "cell_type": "code",
   "execution_count": 177,
   "id": "c0776264",
   "metadata": {},
   "outputs": [
    {
     "data": {
      "text/plain": [
       "(2118177, 24)"
      ]
     },
     "execution_count": 177,
     "metadata": {},
     "output_type": "execute_result"
    }
   ],
   "source": [
    "full_merge.shape"
   ]
  },
  {
   "cell_type": "code",
   "execution_count": 178,
   "id": "11683d00",
   "metadata": {},
   "outputs": [],
   "source": [
    "# find entries with null values\n",
    "full_merge.isnull().sum().to_clipboard()"
   ]
  },
  {
   "cell_type": "code",
   "execution_count": 133,
   "id": "b51d27f0",
   "metadata": {},
   "outputs": [],
   "source": [
    "# find data types for merged table\n",
    "full_merge.dtypes.to_clipboard()"
   ]
  },
  {
   "cell_type": "code",
   "execution_count": 134,
   "id": "6bb6f88f",
   "metadata": {},
   "outputs": [],
   "source": [
    "# explore null checkout kiosk status values\n",
    "merge_COstatus_NA = full_merge[full_merge['Checkout Kiosk Status'].isnull() == True]\n",
    "merge_COstatus_NA.to_clipboard()"
   ]
  },
  {
   "cell_type": "code",
   "execution_count": 179,
   "id": "13c30f12",
   "metadata": {},
   "outputs": [],
   "source": [
    "# find merged table statistics\n",
    "full_merge.describe().to_clipboard()"
   ]
  },
  {
   "cell_type": "code",
   "execution_count": 144,
   "id": "6ee08c26",
   "metadata": {},
   "outputs": [],
   "source": [
    "# find entries with number of docks of 0\n",
    "no_docks = full_merge[full_merge['Checkout Number of Docks'] == 0]\n",
    "no_docks.to_clipboard()"
   ]
  },
  {
   "cell_type": "code",
   "execution_count": 180,
   "id": "adc4495a",
   "metadata": {},
   "outputs": [
    {
     "data": {
      "text/plain": [
       "(0, 24)"
      ]
     },
     "execution_count": 180,
     "metadata": {},
     "output_type": "execute_result"
    }
   ],
   "source": [
    "# change number of docks with '0' to '10'\n",
    "full_merge['Checkout Number of Docks'] = full_merge['Checkout Number of Docks'].replace(0, 10)\n",
    "full_merge['Return Number of Docks'] = full_merge['Return Number of Docks'].replace(0, 10)\n",
    "no_docks = full_merge[full_merge['Checkout Number of Docks'] == 0]\n",
    "no_docks.shape"
   ]
  },
  {
   "cell_type": "code",
   "execution_count": 181,
   "id": "c071ad52",
   "metadata": {},
   "outputs": [],
   "source": [
    "# export merged table\n",
    "full_merge.to_csv(r'C:\\Users\\kacie\\Box\\Personal\\CareerFoundry\\Data Immersion\\Achievement 6\\Austin Bikes\\Full Merge.csv')"
   ]
  },
  {
   "cell_type": "code",
   "execution_count": 5,
   "id": "5a27eff1",
   "metadata": {},
   "outputs": [],
   "source": [
    "# import metrobike merged table\n",
    "merge = pd.read_csv(r'C:\\Users\\kacie\\Box\\Personal\\CareerFoundry\\Data Immersion\\Achievement 6\\Austin Bikes\\Full Merge.csv')"
   ]
  },
  {
   "cell_type": "code",
   "execution_count": 6,
   "id": "9fb7ce0f",
   "metadata": {},
   "outputs": [],
   "source": [
    "# create tables with shorter trip durations\n",
    "short_trips = merge[merge['Trip Duration Minutes'] < 1440]\n",
    "shorter_trips = merge[merge['Trip Duration Minutes'] < 200]\n",
    "shortest_trips = merge[merge['Trip Duration Minutes'] < 120]"
   ]
  },
  {
   "cell_type": "code",
   "execution_count": 7,
   "id": "7158fc74",
   "metadata": {},
   "outputs": [
    {
     "data": {
      "text/plain": [
       "(2117211, 25)"
      ]
     },
     "execution_count": 7,
     "metadata": {},
     "output_type": "execute_result"
    }
   ],
   "source": [
    "short_trips.shape"
   ]
  },
  {
   "cell_type": "code",
   "execution_count": 12,
   "id": "0c187d5f",
   "metadata": {},
   "outputs": [
    {
     "data": {
      "text/plain": [
       "<Axes: xlabel='Trip Duration Minutes', ylabel='Count'>"
      ]
     },
     "execution_count": 12,
     "metadata": {},
     "output_type": "execute_result"
    },
    {
     "data": {
      "image/png": "[encoded data removed]",
      "text/plain": [
       "<Figure size 640x480 with 1 Axes>"
      ]
     },
     "metadata": {},
     "output_type": "display_data"
    }
   ],
   "source": [
    "# create histogram for short trips durations\n",
    "sns.histplot(short_trips['Trip Duration Minutes'], bins = 20, kde = True)"
   ]
  },
  {
   "cell_type": "code",
   "execution_count": 14,
   "id": "76445af2",
   "metadata": {},
   "outputs": [
    {
     "data": {
      "text/plain": [
       "(2092000, 25)"
      ]
     },
     "execution_count": 14,
     "metadata": {},
     "output_type": "execute_result"
    }
   ],
   "source": [
    "shorter_trips.shape"
   ]
  },
  {
   "cell_type": "code",
   "execution_count": 15,
   "id": "1aadb0c7",
   "metadata": {},
   "outputs": [
    {
     "data": {
      "text/plain": [
       "<Axes: xlabel='Trip Duration Minutes', ylabel='Count'>"
      ]
     },
     "execution_count": 15,
     "metadata": {},
     "output_type": "execute_result"
    },
    {
     "data": {
      "image/png": "[encoded data removed]",
      "text/plain": [
       "<Figure size 640x480 with 1 Axes>"
      ]
     },
     "metadata": {},
     "output_type": "display_data"
    }
   ],
   "source": [
    "# create histogram for shorter trips durations\n",
    "sns.histplot(shorter_trips['Trip Duration Minutes'], bins = 20, kde = True)"
   ]
  },
  {
   "cell_type": "code",
   "execution_count": 19,
   "id": "a2445164",
   "metadata": {},
   "outputs": [
    {
     "data": {
      "text/plain": [
       "<Axes: xlabel='Trip Duration Minutes', ylabel='Count'>"
      ]
     },
     "execution_count": 19,
     "metadata": {},
     "output_type": "execute_result"
    },
    {
     "data": {
      "image/png": "[encoded data removed]",
      "text/plain": [
       "<Figure size 640x480 with 1 Axes>"
      ]
     },
     "metadata": {},
     "output_type": "display_data"
    }
   ],
   "source": [
    "# create histogram for shortest trips durations\n",
    "sns.histplot(shortest_trips['Trip Duration Minutes'], bins = 20, kde = True)"
   ]
  },
  {
   "cell_type": "code",
   "execution_count": 18,
   "id": "a6672ad4",
   "metadata": {},
   "outputs": [
    {
     "data": {
      "text/plain": [
       "(2062967, 25)"
      ]
     },
     "execution_count": 18,
     "metadata": {},
     "output_type": "execute_result"
    }
   ],
   "source": [
    "shortest_trips.shape"
   ]
  },
  {
   "cell_type": "code",
   "execution_count": 20,
   "id": "9fa8ae9c",
   "metadata": {},
   "outputs": [],
   "source": [
    "# save shorter trip table for further analysis\n",
    "shorter_trips.to_csv(r'C:\\Users\\kacie\\Box\\Personal\\CareerFoundry\\Data Immersion\\Achievement 6\\Austin Bikes\\Short Trips Merge.csv')"
   ]
  },
  {
   "cell_type": "code",
   "execution_count": null,
   "id": "d641abf4",
   "metadata": {},
   "outputs": [],
   "source": []
  }
 ],
 "metadata": {
  "kernelspec": {
   "display_name": "Python 3 (ipykernel)",
   "language": "python",
   "name": "python3"
  },
  "language_info": {
   "codemirror_mode": {
    "name": "ipython",
    "version": 3
   },
   "file_extension": ".py",
   "mimetype": "text/x-python",
   "name": "python",
   "nbconvert_exporter": "python",
   "pygments_lexer": "ipython3",
   "version": "3.11.5"
  }
 },
 "nbformat": 4,
 "nbformat_minor": 5
}
